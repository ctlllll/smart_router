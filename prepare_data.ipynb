{
 "cells": [
  {
   "cell_type": "code",
   "execution_count": null,
   "metadata": {},
   "outputs": [],
   "source": [
    "from datasets import load_dataset\n",
    "from transformers import AutoTokenizer, AutoModelForSequenceClassification\n",
    "import torch\n",
    "import numpy as np\n",
    "from tqdm import tqdm, trange\n",
    "# # install open assistant model_training module (e.g. run `pip install -e .` in `model/` directory of open-assistant repository)\n",
    "# import model_training.models.reward_model\n",
    "\n",
    "# We instead make a copy of the reward model code here, so that we can import it\n",
    "import reward_model\n",
    "import matplotlib.pyplot as plt\n",
    "import seaborn as sns\n",
    "\n",
    "sns.set_style(\"whitegrid\")\n",
    "sns.set_context(\"paper\", font_scale=1.5)"
   ]
  },
  {
   "cell_type": "code",
   "execution_count": null,
   "metadata": {},
   "outputs": [],
   "source": [
    "gpt4_alpaca = load_dataset(\"vicgalle/alpaca-gpt4\")\n",
    "gpt35_alpaca = load_dataset(\"tatsu-lab/alpaca\")"
   ]
  },
  {
   "cell_type": "code",
   "execution_count": null,
   "metadata": {},
   "outputs": [],
   "source": [
    "model_name = \"OpenAssistant/oasst-rm-2.1-pythia-1.4b-epoch-2.5\"\n",
    "\n",
    "tokenizer = AutoTokenizer.from_pretrained(model_name)\n",
    "model = AutoModelForSequenceClassification.from_pretrained(\n",
    "    model_name,\n",
    "    torch_dtype=torch.float16,\n",
    ")"
   ]
  },
  {
   "cell_type": "code",
   "execution_count": null,
   "metadata": {},
   "outputs": [],
   "source": [
    "model.eval()\n",
    "model.cuda()"
   ]
  },
  {
   "cell_type": "code",
   "execution_count": null,
   "metadata": {},
   "outputs": [],
   "source": [
    "def format_example(example):\n",
    "    # \"<|prompter|>Hi how are you?<|endoftext|><|assistant|>Hi, I am Open-Assistant a large open-source language model trained by LAION AI. How can I help you today?<|endoftext|>\"\n",
    "    text = f\"<|prompter|>{(example['instruction'] + ' ' + example['input']).strip()}<|endoftext|><|assistant|>{example['output']}\"\n",
    "    return text\n",
    "\n",
    "def get_score(example):\n",
    "    text = format_example(example)\n",
    "    inputs = tokenizer(text, return_tensors=\"pt\", truncation=True, padding=True)\n",
    "    inputs = {k: v.cuda() for k, v in inputs.items()}\n",
    "    outputs = model(**inputs)\n",
    "    return outputs.logits[0][0].item()"
   ]
  },
  {
   "cell_type": "code",
   "execution_count": null,
   "metadata": {},
   "outputs": [],
   "source": [
    "examples = []\n",
    "for index in trange(len(gpt35_alpaca[\"train\"])):\n",
    "    assert gpt35_alpaca[\"train\"][index][\"instruction\"] == gpt4_alpaca[\"train\"][index][\"instruction\"]\n",
    "    examples.extend([format_example(gpt35_alpaca[\"train\"][index]), format_example(gpt4_alpaca[\"train\"][index])])"
   ]
  },
  {
   "cell_type": "code",
   "execution_count": null,
   "metadata": {},
   "outputs": [],
   "source": [
    "batch_size = 8\n",
    "scores = []\n",
    "for i in trange(0, len(examples), batch_size):\n",
    "    inputs = tokenizer(examples[i:i+batch_size], return_tensors=\"pt\", truncation=True, padding=True)\n",
    "    inputs = {k: v.cuda() for k, v in inputs.items()}\n",
    "    outputs = model(**inputs)\n",
    "    scores.extend(outputs.logits[:, 0].detach().cpu().numpy().tolist())"
   ]
  },
  {
   "cell_type": "code",
   "execution_count": null,
   "metadata": {},
   "outputs": [],
   "source": [
    "router_dataset = []\n",
    "\n",
    "for index in trange(len(gpt35_alpaca[\"train\"])):\n",
    "    assert gpt35_alpaca[\"train\"][index][\"instruction\"] == gpt4_alpaca[\"train\"][index][\"instruction\"]\n",
    "    input_text = f\"{gpt35_alpaca['train'][index]['instruction']} {gpt35_alpaca['train'][index]['input']}\".strip()\n",
    "    score_35 = scores[index * 2]\n",
    "    score_4 = scores[index * 2 + 1]\n",
    "    router_dataset.append({\n",
    "        \"score_35\": score_35,\n",
    "        \"score_4\": score_4,\n",
    "        \"preference\": torch.sigmoid(torch.tensor(score_4 - score_35)).item(),\n",
    "        \"input\": input_text,\n",
    "    })"
   ]
  },
  {
   "cell_type": "code",
   "execution_count": null,
   "metadata": {},
   "outputs": [],
   "source": [
    "preference_list = [example[\"preference\"] for example in router_dataset]"
   ]
  },
  {
   "cell_type": "code",
   "execution_count": null,
   "metadata": {},
   "outputs": [],
   "source": [
    "plt.figure(figsize=(10, 5))\n",
    "_ = plt.hist(preference_list, bins=20)"
   ]
  },
  {
   "cell_type": "code",
   "execution_count": null,
   "metadata": {},
   "outputs": [],
   "source": [
    "torch.save(router_dataset, \"router_dataset.pt\")"
   ]
  }
 ],
 "metadata": {
  "kernelspec": {
   "display_name": "openassistant",
   "language": "python",
   "name": "python3"
  },
  "language_info": {
   "codemirror_mode": {
    "name": "ipython",
    "version": 3
   },
   "file_extension": ".py",
   "mimetype": "text/x-python",
   "name": "python",
   "nbconvert_exporter": "python",
   "pygments_lexer": "ipython3",
   "version": "3.10.10"
  },
  "orig_nbformat": 4
 },
 "nbformat": 4,
 "nbformat_minor": 2
}
